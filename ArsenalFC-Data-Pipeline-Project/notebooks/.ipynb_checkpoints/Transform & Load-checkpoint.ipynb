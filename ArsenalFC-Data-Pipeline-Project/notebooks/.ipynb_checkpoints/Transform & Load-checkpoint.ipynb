{
 "cells": [
  {
   "cell_type": "code",
   "execution_count": 135,
   "id": "6d0c2358-ce6e-4a3b-9164-529d435978f9",
   "metadata": {},
   "outputs": [],
   "source": [
    "from pyspark.sql import SparkSession\n",
    "from pyspark.sql.functions import *\n",
    "from pyspark.sql.functions import to_date, date_format\n"
   ]
  },
  {
   "cell_type": "code",
   "execution_count": 136,
   "id": "b14fb982-c244-4a09-835b-a7fd0e93d285",
   "metadata": {},
   "outputs": [],
   "source": [
    "from pyspark.sql import SparkSession\n",
    "from pyspark.sql.functions import *\n",
    "from pyspark.sql.functions import to_date, date_format\n"
   ]
  },
  {
   "cell_type": "code",
   "execution_count": 137,
   "id": "b79e652c-5cca-4457-bdfb-abb6cfc94ec1",
   "metadata": {},
   "outputs": [],
   "source": [
    "spark = SparkSession.builder.config(\"spark.jars\", \"/Drivers/SQL_Sever/jdbc/postgresql-42.7.3.jar\")\\\n",
    ".getOrCreate()\n"
   ]
  },
  {
   "cell_type": "markdown",
   "id": "dcba37d5-7479-4e1e-a931-d3b1176a422c",
   "metadata": {},
   "source": [
    "## Loading Data From Postgres"
   ]
  },
  {
   "cell_type": "code",
   "execution_count": 138,
   "id": "e038fca3-1fbc-416d-82d7-50de807c7e73",
   "metadata": {},
   "outputs": [],
   "source": [
    "tbl_list = ['arsenalmatches', 'arsenalPlayers','arsenalGK']\n",
    "dataframe = {}\n",
    "for table in tbl_list:\n",
    "   df = spark.read.format(\"jdbc\") \\\n",
    "        .option(\"url\", \"jdbc:postgresql://postgres:5432/mydatabase\") \\\n",
    "        .option(\"driver\", \"org.postgresql.Driver\") \\\n",
    "        .option(\"dbtable\", f\"{table}\") \\\n",
    "        .option(\"user\", \"postgres\") \\\n",
    "        .option(\"password\", \"postgres\") \\\n",
    "        .load()\n",
    "   dataframe[table] = df"
   ]
  },
  {
   "cell_type": "code",
   "execution_count": 139,
   "id": "3e53694b-8523-40ab-bef7-ef6435c209f3",
   "metadata": {},
   "outputs": [
    {
     "data": {
      "text/plain": [
       "dict_keys(['arsenalmatches', 'arsenalPlayers', 'arsenalGK'])"
      ]
     },
     "execution_count": 139,
     "metadata": {},
     "output_type": "execute_result"
    }
   ],
   "source": [
    "dataframe.keys()"
   ]
  },
  {
   "cell_type": "code",
   "execution_count": 140,
   "id": "95e68098-89f3-4fad-9b88-123ca4f30150",
   "metadata": {},
   "outputs": [
    {
     "name": "stdout",
     "output_type": "stream",
     "text": [
      "{'arsenalmatches': DataFrame[Season: string, Tour: string, Date: string, Time: string, Opponent: string, HoAw: string, ArsenalScore: string, OpponentScore: string, Stadium: string, Attendance: string, Coach: string, Referee: string], 'arsenalPlayers': DataFrame[LastName: string, FirstName: string, Date: string, Start: string, Pos: string, Min: string, G: string, A: string, PK: string, PKA: string, S: string, SoT: string, YK: string, RK: string, Touches: string, Tackles: string, Ints: string, Blocks: string, xG: string, npxG: string, xAG: string, Passes: string, PassesA: string, PrgPas: string, Carries: string, PrgCar: string, Line: string, C: string], 'arsenalGK': DataFrame[LastName: string, FirstName: string, Date: string, Start: string, Pos: string, Min: string, SoTA: string, GA: string, Saves: string, PSxG: string, PKatt: string, PKA: string, PKm: string, PassAtt: string, Throws: string, AvgLen: string, GKAtt: string, GKAvgLen: string, C: string]}\n"
     ]
    }
   ],
   "source": [
    "print(dataframe)"
   ]
  },
  {
   "cell_type": "code",
   "execution_count": 141,
   "id": "a1388cb8-3c11-490a-8bb9-df47887bee22",
   "metadata": {},
   "outputs": [
    {
     "data": {
      "text/plain": [
       "['Season',\n",
       " 'Tour',\n",
       " 'Date',\n",
       " 'Time',\n",
       " 'Opponent',\n",
       " 'HoAw',\n",
       " 'ArsenalScore',\n",
       " 'OpponentScore',\n",
       " 'Stadium',\n",
       " 'Attendance',\n",
       " 'Coach',\n",
       " 'Referee']"
      ]
     },
     "execution_count": 141,
     "metadata": {},
     "output_type": "execute_result"
    }
   ],
   "source": [
    "Matches = dataframe['arsenalmatches']\n",
    "Matches.columns"
   ]
  },
  {
   "cell_type": "code",
   "execution_count": 142,
   "id": "0591b0a7-9592-49ac-bd95-eb5a72e585d5",
   "metadata": {},
   "outputs": [
    {
     "data": {
      "text/plain": [
       "['LastName',\n",
       " 'FirstName',\n",
       " 'Date',\n",
       " 'Start',\n",
       " 'Pos',\n",
       " 'Min',\n",
       " 'G',\n",
       " 'A',\n",
       " 'PK',\n",
       " 'PKA',\n",
       " 'S',\n",
       " 'SoT',\n",
       " 'YK',\n",
       " 'RK',\n",
       " 'Touches',\n",
       " 'Tackles',\n",
       " 'Ints',\n",
       " 'Blocks',\n",
       " 'xG',\n",
       " 'npxG',\n",
       " 'xAG',\n",
       " 'Passes',\n",
       " 'PassesA',\n",
       " 'PrgPas',\n",
       " 'Carries',\n",
       " 'PrgCar',\n",
       " 'Line',\n",
       " 'C']"
      ]
     },
     "execution_count": 142,
     "metadata": {},
     "output_type": "execute_result"
    }
   ],
   "source": [
    "Players = dataframe['arsenalPlayers']\n",
    "Players.columns"
   ]
  },
  {
   "cell_type": "code",
   "execution_count": 143,
   "id": "f0166840-5a10-4fc3-9884-deee8fa0b651",
   "metadata": {},
   "outputs": [
    {
     "data": {
      "text/plain": [
       "['LastName',\n",
       " 'FirstName',\n",
       " 'Date',\n",
       " 'Start',\n",
       " 'Pos',\n",
       " 'Min',\n",
       " 'SoTA',\n",
       " 'GA',\n",
       " 'Saves',\n",
       " 'PSxG',\n",
       " 'PKatt',\n",
       " 'PKA',\n",
       " 'PKm',\n",
       " 'PassAtt',\n",
       " 'Throws',\n",
       " 'AvgLen',\n",
       " 'GKAtt',\n",
       " 'GKAvgLen',\n",
       " 'C']"
      ]
     },
     "execution_count": 143,
     "metadata": {},
     "output_type": "execute_result"
    }
   ],
   "source": [
    "GoalKeepers = dataframe['arsenalGK']\n",
    "GoalKeepers.columns\n"
   ]
  },
  {
   "cell_type": "markdown",
   "id": "04c84103-0718-4daf-aea7-f23cd4c82c12",
   "metadata": {},
   "source": [
    "### Transforming Arsenal Matches Data"
   ]
  },
  {
   "cell_type": "code",
   "execution_count": 144,
   "id": "35e18599-a8ce-4fde-bac0-afea754ac4ef",
   "metadata": {},
   "outputs": [],
   "source": [
    "Matches.createOrReplaceTempView(\"Matches\")"
   ]
  },
  {
   "cell_type": "code",
   "execution_count": 145,
   "id": "1ac2a9e1-86af-428e-820c-7f3742e294a2",
   "metadata": {},
   "outputs": [
    {
     "name": "stdout",
     "output_type": "stream",
     "text": [
      "+--------------------+\n",
      "|count(DISTINCT Date)|\n",
      "+--------------------+\n",
      "|                 214|\n",
      "+--------------------+\n",
      "\n"
     ]
    }
   ],
   "source": [
    "distinct_matches = spark.sql (\"\"\"\n",
    "select Count(distinct Date) from Matches\n",
    "\n",
    "\"\"\").show()"
   ]
  },
  {
   "cell_type": "markdown",
   "id": "3a4ebfe5-9293-400a-8f57-e396ae14f277",
   "metadata": {},
   "source": [
    "#### Making sure that all matches are unique for each date"
   ]
  },
  {
   "cell_type": "code",
   "execution_count": 146,
   "id": "04541ba2-d642-445e-9702-c2c0c84bf710",
   "metadata": {},
   "outputs": [
    {
     "name": "stdout",
     "output_type": "stream",
     "text": [
      "+-----------+\n",
      "|count(Date)|\n",
      "+-----------+\n",
      "|        214|\n",
      "+-----------+\n",
      "\n"
     ]
    }
   ],
   "source": [
    "matches = spark.sql (\"\"\"\n",
    "select Count(Date) from Matches\n",
    "\n",
    "\"\"\").show()"
   ]
  },
  {
   "cell_type": "markdown",
   "id": "5f95c8ce-6340-4b78-9574-2edacd25cf74",
   "metadata": {},
   "source": [
    "#### Know the Max and Min date to create the DimDate Later"
   ]
  },
  {
   "cell_type": "code",
   "execution_count": 147,
   "id": "e94a9580-c463-4854-97b4-2c40d94c670a",
   "metadata": {},
   "outputs": [
    {
     "name": "stdout",
     "output_type": "stream",
     "text": [
      "+----------+----------+\n",
      "|  Max_date|  Min_Date|\n",
      "+----------+----------+\n",
      "|2023-02-25|2017-08-11|\n",
      "+----------+----------+\n",
      "\n"
     ]
    },
    {
     "data": {
      "text/plain": [
       "1996"
      ]
     },
     "execution_count": 147,
     "metadata": {},
     "output_type": "execute_result"
    }
   ],
   "source": [
    "Dates = spark.sql (\"\"\"\n",
    "select Max(Date) as Max_date , MIN(Date) as Min_Date from Matches\n",
    "\n",
    "\"\"\").show()\n",
    "2017-8-11\n",
    "2023-2-25"
   ]
  },
  {
   "cell_type": "markdown",
   "id": "0981ecd8-e2b0-4608-9c0b-482dacb1b861",
   "metadata": {},
   "source": [
    "##### Adding MatchID column to Matches DataFrame"
   ]
  },
  {
   "cell_type": "code",
   "execution_count": 148,
   "id": "4f16dfdf-546b-4243-8ed6-bd5d9c2b437c",
   "metadata": {},
   "outputs": [],
   "source": [
    "DimMatch= Matches.withColumn(\"MatchID\", monotonically_increasing_id())"
   ]
  },
  {
   "cell_type": "code",
   "execution_count": 149,
   "id": "a3b5fae8-fbb5-4c07-88d0-845df739a74c",
   "metadata": {},
   "outputs": [
    {
     "data": {
      "text/plain": [
       "['Season',\n",
       " 'Tour',\n",
       " 'Date',\n",
       " 'Time',\n",
       " 'Opponent',\n",
       " 'HoAw',\n",
       " 'ArsenalScore',\n",
       " 'OpponentScore',\n",
       " 'Stadium',\n",
       " 'Attendance',\n",
       " 'Coach',\n",
       " 'Referee',\n",
       " 'MatchID']"
      ]
     },
     "execution_count": 149,
     "metadata": {},
     "output_type": "execute_result"
    }
   ],
   "source": [
    "DimMatch.columns"
   ]
  },
  {
   "cell_type": "code",
   "execution_count": 150,
   "id": "10d6bb34-382c-4e1c-913f-aff8077170e9",
   "metadata": {},
   "outputs": [],
   "source": [
    "# DimMatch = DimMatch.drop('ArsenalScore',\n",
    "#  'OpponentScore',)"
   ]
  },
  {
   "cell_type": "code",
   "execution_count": 151,
   "id": "41822957-109d-405e-bd15-f09d48e45e10",
   "metadata": {},
   "outputs": [
    {
     "data": {
      "text/plain": [
       "['Season',\n",
       " 'Tour',\n",
       " 'Date',\n",
       " 'Time',\n",
       " 'Opponent',\n",
       " 'HoAw',\n",
       " 'ArsenalScore',\n",
       " 'OpponentScore',\n",
       " 'Stadium',\n",
       " 'Attendance',\n",
       " 'Coach',\n",
       " 'Referee',\n",
       " 'MatchID']"
      ]
     },
     "execution_count": 151,
     "metadata": {},
     "output_type": "execute_result"
    }
   ],
   "source": [
    "# For DimMatch with original format yyyy-M-d\n",
    "# DimMatch = DimMatch.withColumn(\"FormattedDate\", date_format(to_date(\"Date\", \"yyyy-M-d\"), \"yyyy-MM-dd\"))\n",
    "DimMatch.columns"
   ]
  },
  {
   "cell_type": "markdown",
   "id": "6479abda-b2e0-4529-9786-020190624c61",
   "metadata": {},
   "source": [
    "#### Loading the DimMatch for DWH Schema in ArsenalFC Database in Post"
   ]
  },
  {
   "cell_type": "code",
   "execution_count": 152,
   "id": "ddaf3f4f-28fc-4cf9-8016-3dfc3c07a6d8",
   "metadata": {},
   "outputs": [
    {
     "name": "stdout",
     "output_type": "stream",
     "text": [
      "Requirement already satisfied: psycopg2-binary in /opt/conda/lib/python3.11/site-packages (2.9.10)\n"
     ]
    }
   ],
   "source": [
    "!pip install psycopg2-binary\n"
   ]
  },
  {
   "cell_type": "code",
   "execution_count": 153,
   "id": "734318f7-4a5e-4a2f-ae02-946dfcd84b2d",
   "metadata": {},
   "outputs": [],
   "source": [
    "from pyspark.sql import SparkSession\n",
    "import psycopg2\n",
    "\n",
    "# Establecer la conexión\n",
    "conn = psycopg2.connect(\n",
    "    dbname=\"mydatabase\", \n",
    "    user=\"postgres\", \n",
    "    password=\"postgres\", \n",
    "    host=\"postgres\", \n",
    "    port=\"5432\"\n",
    ")\n",
    "cursor = conn.cursor()\n",
    "\n",
    "# Crear el esquema 'dwh' si no existe\n",
    "cursor.execute(\"CREATE SCHEMA IF NOT EXISTS dwh;\")\n",
    "conn.commit()\n",
    "\n",
    "# Cerrar la conexión\n",
    "cursor.close()\n",
    "conn.close()\n"
   ]
  },
  {
   "cell_type": "code",
   "execution_count": 154,
   "id": "496a23f5-f113-418b-a0ac-3260a32400b7",
   "metadata": {},
   "outputs": [],
   "source": [
    "DimMatch.write.format(\"jdbc\") \\\n",
    "    .option(\"url\", \"jdbc:postgresql://postgres:5432/mydatabase\") \\\n",
    "    .option(\"driver\", \"org.postgresql.Driver\") \\\n",
    "    .option(\"dbtable\", \"dwh.DimArsenalMatches\") \\\n",
    "    .option(\"user\", \"postgres\") \\\n",
    "    .option(\"password\", \"postgres\") \\\n",
    "    .mode(\"overwrite\") \\\n",
    "    .save()\n"
   ]
  },
  {
   "cell_type": "code",
   "execution_count": 155,
   "id": "137ed03a-d8b7-4a74-9d88-50ea5076ff39",
   "metadata": {},
   "outputs": [],
   "source": [
    "from pyspark.sql.functions import to_date, date_format\n",
    "\n",
    "# Assuming `DimMatch` is already loaded with the schema you provided\n",
    "\n",
    "# Update the `FormattedDate` in DimMatch to ensure it's in \"yyyy-MM-dd\" format\n",
    "# Adjust the format in to_date() according to the actual format of your 'Date' string if needed\n",
    "DimMatch = DimMatch.withColumn(\"FormattedDate\", date_format(to_date(\"Date\", \"yyyy-MM-dd\"), \"yyyy-MM-dd\"))\n"
   ]
  },
  {
   "cell_type": "code",
   "execution_count": 156,
   "id": "abc4bf98-4772-457c-86e2-543964e3ad98",
   "metadata": {},
   "outputs": [
    {
     "data": {
      "text/plain": [
       "StructType([StructField('Season', StringType(), True), StructField('Tour', StringType(), True), StructField('Date', StringType(), True), StructField('Time', StringType(), True), StructField('Opponent', StringType(), True), StructField('HoAw', StringType(), True), StructField('ArsenalScore', StringType(), True), StructField('OpponentScore', StringType(), True), StructField('Stadium', StringType(), True), StructField('Attendance', StringType(), True), StructField('Coach', StringType(), True), StructField('Referee', StringType(), True), StructField('MatchID', LongType(), False), StructField('FormattedDate', StringType(), True)])"
      ]
     },
     "execution_count": 156,
     "metadata": {},
     "output_type": "execute_result"
    }
   ],
   "source": [
    "DimMatch.schema"
   ]
  },
  {
   "cell_type": "markdown",
   "id": "6797b2cf-2b4b-4768-aecb-2356367b42d7",
   "metadata": {},
   "source": [
    "### Transforming Players Data & Creating the DimPlayers and Fact Players"
   ]
  },
  {
   "cell_type": "code",
   "execution_count": 157,
   "id": "946eca09-e459-4a76-b350-e3bdb9686e6e",
   "metadata": {},
   "outputs": [],
   "source": [
    "Players.createOrReplaceTempView(\"Players\")"
   ]
  },
  {
   "cell_type": "markdown",
   "id": "4509465b-c047-470b-9211-8ae56e4d8f26",
   "metadata": {},
   "source": [
    "#### Addomg fullname column to Players Table "
   ]
  },
  {
   "cell_type": "code",
   "execution_count": 158,
   "id": "c58af3c8-8201-4d72-b910-5af047e7687c",
   "metadata": {},
   "outputs": [
    {
     "name": "stdout",
     "output_type": "stream",
     "text": [
      "+-------------------+\n",
      "|           fullname|\n",
      "+-------------------+\n",
      "|    Hector Bellerin|\n",
      "|     Mohamed Elneny|\n",
      "|        Rob Holding|\n",
      "|     Sead Kolasinac|\n",
      "|Alexandre Lacazette|\n",
      "|      Nacho Monreal|\n",
      "|         Mesut Ozil|\n",
      "|      Danny Welbeck|\n",
      "|       Granit Xhaka|\n",
      "|       Aaron Ramsey|\n",
      "|    Hector Bellerin|\n",
      "|     Sead Kolasinac|\n",
      "|Alexandre Lacazette|\n",
      "|      Nacho Monreal|\n",
      "|   Shkodran Mustafi|\n",
      "|         Mesut Ozil|\n",
      "|       Aaron Ramsey|\n",
      "|      Danny Welbeck|\n",
      "|       Granit Xhaka|\n",
      "|         Alex Iwobi|\n",
      "+-------------------+\n",
      "only showing top 20 rows\n",
      "\n"
     ]
    }
   ],
   "source": [
    "spark.sql(\"\"\"\n",
    "    select concat(firstname, \" \", lastname) as fullname\n",
    "    from Players\n",
    "\n",
    "\"\"\").show()"
   ]
  },
  {
   "cell_type": "markdown",
   "id": "c928981e-0d73-4a34-992a-e28012c44a59",
   "metadata": {},
   "source": [
    "#### Checking all Distinct Players"
   ]
  },
  {
   "cell_type": "code",
   "execution_count": null,
   "id": "4821157a-a64c-43a1-be84-e4d489281cb4",
   "metadata": {},
   "outputs": [
    {
     "name": "stdout",
     "output_type": "stream",
     "text": [
      "+----------------+\n",
      "|        fullname|\n",
      "+----------------+\n",
      "|Emile Smith Rowe|\n",
      "| Folarin Balogun|\n",
      "| Hector Bellerin|\n",
      "|     Joe Willock|\n",
      "|  William Saliba|\n",
      "|    Aaron Ramsey|\n",
      "|     Bukayo Saka|\n",
      "|  Kieran Tierney|\n",
      "|Shkodran Mustafi|\n",
      "| Daniel Ceballos|\n",
      "+----------------+\n",
      "only showing top 10 rows\n",
      "\n"
     ]
    }
   ],
   "source": [
    "distnict_players= spark.sql(\"\"\"\n",
    "    select distinct concat(firstname, \" \", lastname) as fullname\n",
    "    from Players\n",
    "\n",
    "\"\"\")\n",
    "distnict_players.show(10)"
   ]
  },
  {
   "cell_type": "markdown",
   "id": "feb87c77-da7d-4694-8764-9aacfb7fe9e1",
   "metadata": {},
   "source": [
    "#### Count the distinct date to check if it matche with DimMatches or not"
   ]
  },
  {
   "cell_type": "code",
   "execution_count": null,
   "id": "c42caefc-b614-4b8f-b84b-1bf8bdebd4e7",
   "metadata": {},
   "outputs": [],
   "source": [
    "players_Dates= spark.sql(\"\"\"\n",
    "    select count(distinct Date) \n",
    "    from players\n",
    "\n",
    "\"\"\")\n",
    "players_Dates.show()"
   ]
  },
  {
   "cell_type": "markdown",
   "id": "9ae6bc35-56d6-4ae7-b74f-c1d2fd2f82e4",
   "metadata": {},
   "source": [
    "#### Adding New column to distinct Players as PlayerID"
   ]
  },
  {
   "cell_type": "code",
   "execution_count": null,
   "id": "37aebfbf-c50a-4cbf-bfc3-7aef9fa0bac5",
   "metadata": {},
   "outputs": [],
   "source": [
    "distnict_players= distnict_players.withColumn(\"PlayerID\", monotonically_increasing_id())"
   ]
  },
  {
   "cell_type": "markdown",
   "id": "86800f88-a6e8-4e9f-a1f4-7f8da508c371",
   "metadata": {},
   "source": [
    "#### Adding fullname column to Player so we can create the DimPlayers joinig it with Distinct_Player Table"
   ]
  },
  {
   "cell_type": "code",
   "execution_count": null,
   "id": "b4f00bd7-487c-49ce-b5cd-1b651c34957b",
   "metadata": {},
   "outputs": [],
   "source": [
    "Players= Players.withColumn('fullname', concat_ws(\" \", col('FirstName'),col('LastName')))\n",
    "Players.select(\"fullname\").show(5, False)"
   ]
  },
  {
   "cell_type": "markdown",
   "id": "f553f0a0-ceb3-4fc1-9077-42e8c70e958b",
   "metadata": {},
   "source": [
    "#### Creating DimPlayers"
   ]
  },
  {
   "cell_type": "code",
   "execution_count": null,
   "id": "c63a38e4-09c1-4f82-bb5b-167fe596b5f7",
   "metadata": {},
   "outputs": [],
   "source": [
    "DimPlayers= Players.join(distnict_players, on ='fullname', how=\"inner\")\n",
    "DimPlayers.columns"
   ]
  },
  {
   "cell_type": "code",
   "execution_count": null,
   "id": "443c6d97-17cc-4db2-a401-4b12ea16f99b",
   "metadata": {},
   "outputs": [],
   "source": [
    "# For DimPlayers with original format M/d/yyyy\n",
    "DimPlayers = DimPlayers.withColumn(\"FormattedDate\", date_format(to_date(\"Date\", \"M/d/yyyy\"), \"yyyy-MM-dd\"))\n"
   ]
  },
  {
   "cell_type": "code",
   "execution_count": null,
   "id": "7246e1d8-acb9-445b-b8be-82838978927d",
   "metadata": {},
   "outputs": [],
   "source": [
    "DimMatch.show(1)"
   ]
  },
  {
   "cell_type": "markdown",
   "id": "2a69f06a-add0-4dc7-9f71-7864e91b6056",
   "metadata": {},
   "source": [
    "#### Creating the FactPlayers"
   ]
  },
  {
   "cell_type": "code",
   "execution_count": null,
   "id": "dd842481-31a3-4eaa-8411-038736899b32",
   "metadata": {},
   "outputs": [],
   "source": [
    "# Convert 'Date' column from string to date type in DimMatch\n",
    "DimMatch = DimMatch.withColumn(\"Date\", to_date(\"Date\", \"yyyy-M-d\"))\n",
    "\n",
    "# Convert 'Date' column from string to date type in DimPlayers\n",
    "DimPlayers = DimPlayers.withColumn(\"Date\", to_date(\"Date\", \"yyyy-M-d\"))\n"
   ]
  },
  {
   "cell_type": "code",
   "execution_count": null,
   "id": "5e6475b3-fa74-4766-aa03-a46904dc4b0e",
   "metadata": {},
   "outputs": [],
   "source": [
    "DimPlayers.schema"
   ]
  },
  {
   "cell_type": "code",
   "execution_count": null,
   "id": "62a7afb9-bf97-46a2-9c0d-a62f11079d7a",
   "metadata": {},
   "outputs": [],
   "source": [
    "FactPlayers = DimMatch.join(DimPlayers, on='FormattedDate', how= 'left')\n",
    "FactPlayers.show()\n"
   ]
  },
  {
   "cell_type": "code",
   "execution_count": null,
   "id": "d4899f54-5161-4bfb-a6d7-bb115be2048b",
   "metadata": {},
   "outputs": [],
   "source": [
    "FactPlayers = FactPlayers.drop('Date')"
   ]
  },
  {
   "cell_type": "code",
   "execution_count": null,
   "id": "e18a83bd-63ac-4eac-bfd2-310d4f3c1908",
   "metadata": {},
   "outputs": [],
   "source": [
    "# Register the DataFrame as a temporary view\n",
    "FactPlayers.createOrReplaceTempView(\"fact_players\")\n",
    "\n",
    "# SQL query to select rows with any null values\n",
    "query = \"SELECT * FROM fact_players WHERE \" + ' OR '.join([f\"{col} IS NULL\" for col in FactPlayers.columns])\n",
    "\n",
    "# Execute the query\n",
    "rows_with_nulls_sql = spark.sql(query)\n",
    "\n",
    "rows_with_nulls_sql.show()\n"
   ]
  },
  {
   "cell_type": "code",
   "execution_count": null,
   "id": "6385cebe-f30b-4995-9a3a-0da389c6255d",
   "metadata": {
    "scrolled": true
   },
   "outputs": [],
   "source": [
    "FactPlayers.show()"
   ]
  },
  {
   "cell_type": "code",
   "execution_count": null,
   "id": "667b721e-3215-4d1e-b675-df6538c2db70",
   "metadata": {},
   "outputs": [],
   "source": [
    "FactPlayers = FactPlayers.drop('Season',\n",
    " 'Tour',\n",
    " 'Time',\n",
    " 'Opponent',\n",
    " 'HoAw',\n",
    " 'Stadium','Coach',\n",
    " 'Referee',\n",
    "   'fullname',\n",
    " 'LastName',\n",
    " 'FirstName','Line')"
   ]
  },
  {
   "cell_type": "code",
   "execution_count": null,
   "id": "5a278386-ccf0-4080-b6cf-673549185974",
   "metadata": {},
   "outputs": [],
   "source": [
    "FactPlayers.columns"
   ]
  },
  {
   "cell_type": "markdown",
   "id": "2b3f2d67-8328-46b1-813c-e2b529b4da47",
   "metadata": {},
   "source": [
    "#### Loading the FactPlayers for DWH Schema in ArsenalFC Database in PostgreSql"
   ]
  },
  {
   "cell_type": "code",
   "execution_count": null,
   "id": "1e50c8af-e92c-403f-8725-cd377ff49153",
   "metadata": {},
   "outputs": [],
   "source": [
    "FactPlayers.write.format(\"jdbc\") \\\n",
    "    .option(\"url\", \"jdbc:postgresql://postgres:5432/mydatabase\") \\\n",
    "    .option(\"driver\", \"org.postgresql.Driver\") \\\n",
    "    .option(\"dbtable\", \"dwh.FactArsenalPlayers\") \\\n",
    "    .option(\"user\", \"postgres\") \\\n",
    "    .option(\"password\", \"postgres\") \\\n",
    "    .mode(\"overwrite\") \\\n",
    "    .save()\n"
   ]
  },
  {
   "cell_type": "code",
   "execution_count": null,
   "id": "de07978d-4a94-4558-90fe-7f809326f173",
   "metadata": {},
   "outputs": [],
   "source": [
    "DimPlayers.columns"
   ]
  },
  {
   "cell_type": "code",
   "execution_count": null,
   "id": "73f17147-f0e5-42b5-aa6b-ae1c26a77cd1",
   "metadata": {},
   "outputs": [],
   "source": [
    "DimPlayers= DimPlayers.drop('Date',\n",
    " 'Start',\n",
    " 'Min',\n",
    " 'G',\n",
    " 'A',\n",
    " 'PK',\n",
    " 'PKA',\n",
    " 'S',\n",
    " 'SoT',\n",
    " 'YK',\n",
    " 'RK',\n",
    " 'Touches',\n",
    " 'Tackles',\n",
    " 'Ints',\n",
    " 'Blocks',\n",
    " 'xG',\n",
    " 'npxG',\n",
    " 'xAG',\n",
    " 'Passes',\n",
    " 'PassesA',\n",
    " 'PrgPas',\n",
    " 'Carries',\n",
    " 'PrgCar',\n",
    " 'Line',\n",
    " 'C','FormattedDate', 'Pos')\n",
    "\n"
   ]
  },
  {
   "cell_type": "code",
   "execution_count": null,
   "id": "17652407-d7d7-4e4b-bede-129b8f4e0409",
   "metadata": {},
   "outputs": [],
   "source": [
    "DimPlayers.createOrReplaceTempView(\"DimPlayers\")"
   ]
  },
  {
   "cell_type": "code",
   "execution_count": null,
   "id": "f7fa39f8-2ad7-4c8c-b9df-a05f67d6a995",
   "metadata": {},
   "outputs": [],
   "source": [
    "DimPlayers.columns"
   ]
  },
  {
   "cell_type": "code",
   "execution_count": null,
   "id": "8ae34b5f-e23b-4bcc-be48-9cfd27f217df",
   "metadata": {},
   "outputs": [],
   "source": [
    "DimPlayers.show()"
   ]
  },
  {
   "cell_type": "markdown",
   "id": "8cc74b52-4d66-49bb-9584-178804d73508",
   "metadata": {},
   "source": [
    "#### Loading the DimPlayers for DWH Schema in ArsenalFC Database in PostgreSql"
   ]
  },
  {
   "cell_type": "code",
   "execution_count": null,
   "id": "724dfb2f-c148-4b95-9cee-a71b8bbd4545",
   "metadata": {},
   "outputs": [],
   "source": [
    "DimPlayers.write.format(\"jdbc\") \\\n",
    "    .option(\"url\", \"jdbc:postgresql://postgres:5432/mydatabase\") \\\n",
    "    .option(\"driver\", \"org.postgresql.Driver\") \\\n",
    "    .option(\"dbtable\", \"dwh.DimArsenalPlayers\") \\\n",
    "    .option(\"user\", \"postgres\") \\\n",
    "    .option(\"password\", \"postgres\") \\\n",
    "    .mode(\"overwrite\") \\\n",
    "    .save()\n"
   ]
  },
  {
   "cell_type": "markdown",
   "id": "b38200e6-398c-44d5-a6b4-a514379f6731",
   "metadata": {},
   "source": [
    "### Dim GoalKeepers"
   ]
  },
  {
   "cell_type": "code",
   "execution_count": null,
   "id": "f6724016-6186-4e4b-a46b-f94bdc11cf53",
   "metadata": {},
   "outputs": [],
   "source": [
    "GoalKeepers.createOrReplaceTempView(\"GK\")"
   ]
  },
  {
   "cell_type": "markdown",
   "id": "21c6c470-c84f-49e9-852e-a3893aa41e3c",
   "metadata": {},
   "source": [
    "#### Adding fullname to GoalKeepers so we can Join later creating the DimGoalKeepers"
   ]
  },
  {
   "cell_type": "code",
   "execution_count": null,
   "id": "f117ab5c-d91d-4076-af7a-fae63c55e5e9",
   "metadata": {},
   "outputs": [],
   "source": [
    "GoalKeepers= GoalKeepers.withColumn('fullname', concat_ws(\" \", col('FirstName'),col('LastName')))\n",
    "# GoalKeepers.select(\"fullname\").show(5, False)"
   ]
  },
  {
   "cell_type": "code",
   "execution_count": null,
   "id": "43c67916-104d-4458-a9f4-6d65685c6cc1",
   "metadata": {},
   "outputs": [],
   "source": [
    "GoalKeepers.columns"
   ]
  },
  {
   "cell_type": "code",
   "execution_count": null,
   "id": "3c25a732-b06b-41aa-bb22-1bb918ab3db7",
   "metadata": {},
   "outputs": [],
   "source": [
    "GoalKeepers_f = spark.sql(\"\"\"\n",
    "    select distinct concat(firstname, \" \", lastname) as fullname\n",
    "    from GK\n",
    "\n",
    "\"\"\")\n"
   ]
  },
  {
   "cell_type": "code",
   "execution_count": null,
   "id": "a3ae4f49-4e14-479f-9cb9-56f55c01f7d7",
   "metadata": {},
   "outputs": [],
   "source": [
    "GoalKeepers_f.columns"
   ]
  },
  {
   "cell_type": "code",
   "execution_count": null,
   "id": "76270d59-4ab4-4116-a189-b3293b8977eb",
   "metadata": {},
   "outputs": [],
   "source": [
    "# Crear la columna 'fullname' en el DataFrame\n",
    "GoalKeepers = GoalKeepers.withColumn('fullname', concat_ws(\" \", col('FirstName'), col('LastName')))\n",
    "\n",
    "# Registrar GoalKeepers como una vista temporal\n",
    "GoalKeepers.createOrReplaceTempView(\"GK\")\n",
    "\n",
    "# Ahora puedes ejecutar las consultas SQL\n",
    "GoalKeepers_f = spark.sql(\"\"\"\n",
    "    select distinct concat(firstname, \" \", lastname) as fullname\n",
    "    from GK\n",
    "\"\"\")\n",
    "\n",
    "GK_ = spark.sql(\"\"\"\n",
    "    select Count(fullname) from GK\n",
    "\"\"\")\n"
   ]
  },
  {
   "cell_type": "code",
   "execution_count": null,
   "id": "4b5db9c6-e5f9-46e7-b67a-5f37f6ea9167",
   "metadata": {},
   "outputs": [],
   "source": [
    "GK_ = spark.sql (\"\"\"\n",
    "select Count(fullname) from GK\n",
    "\"\"\")\n",
    "\n"
   ]
  },
  {
   "cell_type": "code",
   "execution_count": null,
   "id": "734c3079-637e-4c66-964b-3112a650edee",
   "metadata": {},
   "outputs": [],
   "source": [
    "GoalKeepers_f.show()"
   ]
  },
  {
   "cell_type": "code",
   "execution_count": null,
   "id": "f0019223-63df-4516-95fb-44f3fb492f16",
   "metadata": {},
   "outputs": [],
   "source": [
    "GoalKeepers_f= GoalKeepers_f.withColumn('GkID',monotonically_increasing_id()+1)\n"
   ]
  },
  {
   "cell_type": "code",
   "execution_count": null,
   "id": "9d967a5b-c2c1-4ea6-9cac-e06d7c1d49de",
   "metadata": {},
   "outputs": [],
   "source": [
    "DimGoalKeepers= GoalKeepers.join(GoalKeepers_f, on ='fullname', how=\"inner\")"
   ]
  },
  {
   "cell_type": "code",
   "execution_count": null,
   "id": "88964b0e-9e2c-4458-ab7d-76d71e37eb04",
   "metadata": {},
   "outputs": [],
   "source": [
    "DimGoalKeepers.columns"
   ]
  },
  {
   "cell_type": "code",
   "execution_count": null,
   "id": "f6bc483c-fdfc-43d6-b1a8-c77d4cdf4e5b",
   "metadata": {},
   "outputs": [],
   "source": [
    "DimGoalKeepers = DimGoalKeepers.withColumn(\"FormattedDate\", date_format(to_date(\"Date\", \"M/d/yyyy\"), \"yyyy-MM-dd\"))\n"
   ]
  },
  {
   "cell_type": "code",
   "execution_count": null,
   "id": "36fac6bb-a320-4a99-9191-ab216df51d4a",
   "metadata": {},
   "outputs": [],
   "source": [
    "DimGoalKeepers.show()"
   ]
  },
  {
   "cell_type": "markdown",
   "id": "c12f7cb6-e253-4d36-a30b-52ea24a0edb6",
   "metadata": {},
   "source": [
    "#### Creating FactGoalKeepers"
   ]
  },
  {
   "cell_type": "code",
   "execution_count": null,
   "id": "c96cdc15-6285-411c-8e75-4ef60096c48b",
   "metadata": {},
   "outputs": [],
   "source": [
    "FactGk = DimMatch.join(DimGoalKeepers, on='FormattedDate', how='left')\n",
    "FactGk.columns"
   ]
  },
  {
   "cell_type": "code",
   "execution_count": null,
   "id": "3d8a6626-efc3-45f4-b879-c44503ae257f",
   "metadata": {},
   "outputs": [],
   "source": [
    "FactGk.show()"
   ]
  },
  {
   "cell_type": "code",
   "execution_count": null,
   "id": "38fea1ee-87dc-4639-b2f5-a677dbfd80fb",
   "metadata": {},
   "outputs": [],
   "source": [
    "FactGk = FactGk.drop( \n",
    " 'Season',\n",
    " 'Tour',\n",
    " 'Time',\n",
    " 'Opponent',\n",
    " 'HoAw',\n",
    " 'Stadium',\n",
    " 'Coach',\n",
    " 'Referee',\n",
    "  'Pos',\n",
    "'fullname',\n",
    " 'LastName',\n",
    " 'FirstName','Date'\n",
    " \n",
    ")\n",
    "FactGk.columns"
   ]
  },
  {
   "cell_type": "code",
   "execution_count": null,
   "id": "9ecaed05-09f3-4574-93ec-d42f60664780",
   "metadata": {},
   "outputs": [],
   "source": [
    "FactGk.columns"
   ]
  },
  {
   "cell_type": "markdown",
   "id": "d5aee73e-a528-4eed-a2dd-65af296090d2",
   "metadata": {},
   "source": [
    "#### Loading the FactGoalkeepers for DWH Schema in ArsenalFC Database in PostgreSql"
   ]
  },
  {
   "cell_type": "code",
   "execution_count": null,
   "id": "d9127314-3547-498a-965e-92becaea7783",
   "metadata": {},
   "outputs": [],
   "source": [
    "FactGk.write.format(\"jdbc\") \\\n",
    "    .option(\"url\", \"jdbc:postgresql://postgres:5432/mydatabase\") \\\n",
    "    .option(\"driver\", \"org.postgresql.Driver\") \\\n",
    "    .option(\"dbtable\", \"dwh.FactArsenalGoalKeepers\") \\\n",
    "    .option(\"user\", \"postgres\") \\\n",
    "    .option(\"password\", \"postgres\") \\\n",
    "    .mode(\"overwrite\") \\\n",
    "    .save()\n"
   ]
  },
  {
   "cell_type": "code",
   "execution_count": null,
   "id": "49d04e46-69a9-4075-8d4e-814d28946554",
   "metadata": {},
   "outputs": [],
   "source": [
    "DimGoalKeepers.columns"
   ]
  },
  {
   "cell_type": "markdown",
   "id": "f5c2033b-3f4b-4d06-98d4-418ba8d3c295",
   "metadata": {},
   "source": [
    "#### Loading the DimGoalKeepers for DWH Schema in ArsenalFC Database in PostgreSql"
   ]
  },
  {
   "cell_type": "code",
   "execution_count": null,
   "id": "d9ed96f6-252e-44c1-b059-41da89e55a7f",
   "metadata": {},
   "outputs": [],
   "source": [
    "DimGoalKeepers= DimGoalKeepers.drop('Min','Start',\n",
    " 'SoTA',\n",
    " 'GA',\n",
    " 'Saves',\n",
    " 'PSxG',\n",
    " 'PKatt',\n",
    " 'PKA',\n",
    " 'PKm',\n",
    " 'PassAtt',\n",
    " 'Throws',\n",
    " 'AvgLen',\n",
    " 'GKAtt',\n",
    " 'GKAvgLen','Date','C','FormattedDate')\n",
    "\n",
    "DimGoalKeepers.columns"
   ]
  },
  {
   "cell_type": "code",
   "execution_count": null,
   "id": "934ee25e-91eb-44cd-b0e3-fe53a705d141",
   "metadata": {},
   "outputs": [],
   "source": [
    "DimGoalKeepers.createOrReplaceTempView(\"DimGoalKeepers\")"
   ]
  },
  {
   "cell_type": "code",
   "execution_count": null,
   "id": "1e0d4d25-e70f-4dfb-b0e6-98f124f6b5cc",
   "metadata": {},
   "outputs": [],
   "source": [
    "DimGoalKeepers = spark.sql(\"\"\" select distinct * from DimGoalKeepers\"\"\")\n",
    "DimGoalKeepers.show()"
   ]
  },
  {
   "cell_type": "code",
   "execution_count": null,
   "id": "58c5090f-abc5-4814-8385-e210ce0e6b6b",
   "metadata": {},
   "outputs": [],
   "source": [
    "DimGoalKeepers =DimGoalKeepers.dropDuplicates()\n",
    "DimGoalKeepers.show()"
   ]
  },
  {
   "cell_type": "code",
   "execution_count": null,
   "id": "d0814378-1047-43b8-873c-b6286400f576",
   "metadata": {},
   "outputs": [],
   "source": [
    "DimGoalKeepers.write.format(\"jdbc\") \\\n",
    "    .option(\"url\", \"jdbc:postgresql://postgres:5432/mydatabase\") \\\n",
    "    .option(\"driver\", \"org.postgresql.Driver\") \\\n",
    "    .option(\"dbtable\", \"dwh.DimArsenalGoalKeepers\") \\\n",
    "    .option(\"user\", \"postgres\") \\\n",
    "    .option(\"password\", \"postgres\") \\\n",
    "    .mode(\"overwrite\") \\\n",
    "    .save()\n"
   ]
  },
  {
   "cell_type": "markdown",
   "id": "a744207f-997b-420f-93b6-21469ef2eb3d",
   "metadata": {},
   "source": [
    "### Creating DimDate and Loading into PostgreSQL"
   ]
  },
  {
   "cell_type": "code",
   "execution_count": null,
   "id": "8960cb72-ce22-485a-8d2e-65d2b8606f73",
   "metadata": {},
   "outputs": [],
   "source": [
    "Dates = spark.sql (\"\"\"\n",
    "select Max(Date) as Max_date , MIN(Date) as Min_Date from Matches\n",
    "\n",
    "\"\"\").show()"
   ]
  },
  {
   "cell_type": "code",
   "execution_count": null,
   "id": "ccaebb2b",
   "metadata": {},
   "outputs": [],
   "source": [
    "date_df = spark.sql(\"SELECT * FROM Matches\")"
   ]
  },
  {
   "cell_type": "code",
   "execution_count": null,
   "id": "f8344f2a-3fea-4c53-8c06-97c08089de36",
   "metadata": {},
   "outputs": [],
   "source": [
    "from pyspark.sql.functions import year, month, dayofmonth, dayofweek, quarter\n",
    "\n",
    "dim_date_df = date_df.select(\n",
    "    \"Date\",\n",
    "    year(\"Date\").alias(\"Year\"),\n",
    "    month(\"Date\").alias(\"Month\"),\n",
    "    dayofmonth(\"Date\").alias(\"Day\"),\n",
    "    dayofweek(\"Date\").alias(\"Weekday\"),\n",
    "    quarter(\"Date\").alias(\"Quarter\")\n",
    ")\n",
    "\n",
    "dim_date_df.show()\n"
   ]
  },
  {
   "cell_type": "markdown",
   "id": "0d27c737-bc2b-46fe-b481-8697d46e3d7a",
   "metadata": {},
   "source": [
    "### Loading DimDate to DWH"
   ]
  },
  {
   "cell_type": "code",
   "execution_count": null,
   "id": "5f33dbe4-99d6-49e1-8d7f-66b084331f20",
   "metadata": {},
   "outputs": [],
   "source": [
    "dim_date_df.write.format(\"jdbc\") \\\n",
    "    .option(\"url\", \"jdbc:postgresql://postgres:5432/mydatabase\") \\\n",
    "    .option(\"driver\", \"org.postgresql.Driver\") \\\n",
    "    .option(\"dbtable\", \"dwh.DimDate\") \\\n",
    "    .option(\"user\", \"postgres\") \\\n",
    "    .option(\"password\", \"postgres\") \\\n",
    "    .mode(\"overwrite\") \\\n",
    "    .save()\n"
   ]
  }
 ],
 "metadata": {
  "kernelspec": {
   "display_name": "Python 3 (ipykernel)",
   "language": "python",
   "name": "python3"
  },
  "language_info": {
   "codemirror_mode": {
    "name": "ipython",
    "version": 3
   },
   "file_extension": ".py",
   "mimetype": "text/x-python",
   "name": "python",
   "nbconvert_exporter": "python",
   "pygments_lexer": "ipython3",
   "version": "3.11.6"
  }
 },
 "nbformat": 4,
 "nbformat_minor": 5
}
